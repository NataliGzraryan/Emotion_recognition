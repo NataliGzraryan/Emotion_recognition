{
 "cells": [
  {
   "cell_type": "markdown",
   "metadata": {},
   "source": [
    "# Importing libraries"
   ]
  },
  {
   "cell_type": "code",
   "execution_count": 88,
   "metadata": {
    "_cell_guid": "b1076dfc-b9ad-4769-8c92-a6c4dae69d19",
    "_uuid": "8f2839f25d086af736a60e9eeb907d3b93b6e0e5",
    "execution": {
     "iopub.execute_input": "2023-01-05T11:16:04.027704Z",
     "iopub.status.busy": "2023-01-05T11:16:04.027289Z",
     "iopub.status.idle": "2023-01-05T11:16:04.251182Z",
     "shell.execute_reply": "2023-01-05T11:16:04.250283Z",
     "shell.execute_reply.started": "2023-01-05T11:16:04.027667Z"
    }
   },
   "outputs": [
    {
     "name": "stderr",
     "output_type": "stream",
     "text": [
      "[nltk_data] Downloading package omw-1.4 to\n",
      "[nltk_data]     C:\\Users\\Gigabyte\\AppData\\Roaming\\nltk_data...\n",
      "[nltk_data]   Package omw-1.4 is already up-to-date!\n"
     ]
    },
    {
     "data": {
      "text/plain": [
       "True"
      ]
     },
     "execution_count": 88,
     "metadata": {},
     "output_type": "execute_result"
    }
   ],
   "source": [
    "import re\n",
    "import nltk\n",
    "import string\n",
    "import numpy as np\n",
    "import pandas as pd\n",
    "import seaborn as sns\n",
    "import matplotlib.pyplot as plt\n",
    "from nltk.corpus import stopwords\n",
    "from nltk.stem import SnowballStemmer, WordNetLemmatizer\n",
    "from sklearn.feature_extraction.text import TfidfVectorizer\n",
    "from sklearn.metrics import roc_auc_score\n",
    "\n",
    "from sklearn.preprocessing import LabelEncoder\n",
    "from sklearn.model_selection import train_test_split\n",
    "\n",
    "from tensorflow.keras.utils import to_categorical\n",
    "from tensorflow.keras.preprocessing.text import Tokenizer\n",
    "from tensorflow.keras.preprocessing.sequence import pad_sequences\n",
    "\n",
    "from tensorflow.keras.optimizers import Adam\n",
    "from tensorflow.keras.models import Sequential\n",
    "from tensorflow.keras.callbacks import EarlyStopping\n",
    "from tensorflow.keras.layers import Dense, LSTM, Embedding, Bidirectional\n",
    "\n",
    "#nltk.download(\"stopwords\")\n",
    "stop_words = set(stopwords.words(\"english\"))\n",
    "lemmatizer= WordNetLemmatizer()\n",
    "\n",
    "# Modelling\n",
    "from sklearn.model_selection import train_test_split,KFold, GridSearchCV\n",
    "from sklearn.ensemble import RandomForestClassifier\n",
    "from sklearn.linear_model import LogisticRegression\n",
    "from sklearn.tree import DecisionTreeClassifier\n",
    "from sklearn.ensemble import RandomForestClassifier\n",
    "from sklearn.metrics import accuracy_score,confusion_matrix, classification_report\n",
    "from sklearn.pipeline import Pipeline\n",
    "from sklearn.metrics import f1_score\n",
    "from sklearn.svm import SVC\n",
    "\n",
    "#Lime\n",
    "from lime import lime_text\n",
    "from lime.lime_text import LimeTextExplainer\n",
    "from lime.lime_text import IndexedString,IndexedCharacters\n",
    "from lime.lime_base import LimeBase\n",
    "from lime.lime_text import explanation\n",
    "sns.set(font_scale=1.3)\n",
    "nltk.download('omw-1.4')"
   ]
  },
  {
   "cell_type": "code",
   "execution_count": 90,
   "metadata": {},
   "outputs": [
    {
     "name": "stdout",
     "output_type": "stream",
     "text": [
      "The scikit-learn version is 1.3.0.\n"
     ]
    }
   ],
   "source": [
    "import sklearn\n",
    "print('The scikit-learn version is {}.'.format(sklearn.__version__))"
   ]
  },
  {
   "cell_type": "code",
   "execution_count": 48,
   "metadata": {
    "execution": {
     "iopub.execute_input": "2023-01-05T10:09:53.483999Z",
     "iopub.status.busy": "2023-01-05T10:09:53.483044Z",
     "iopub.status.idle": "2023-01-05T10:09:53.532993Z",
     "shell.execute_reply": "2023-01-05T10:09:53.531888Z",
     "shell.execute_reply.started": "2023-01-05T10:09:53.483969Z"
    }
   },
   "outputs": [],
   "source": [
    "# Read datasets\n",
    "df_train = pd.read_csv('train.txt', names=['Text', 'Emotion'], sep=';')\n",
    "df_val = pd.read_csv('val.txt', names=['Text', 'Emotion'], sep=';')\n",
    "df_test = pd.read_csv('test.txt', names=['Text', 'Emotion'], sep=';')"
   ]
  },
  {
   "cell_type": "code",
   "execution_count": 49,
   "metadata": {
    "execution": {
     "iopub.execute_input": "2023-01-05T10:09:53.535264Z",
     "iopub.status.busy": "2023-01-05T10:09:53.534437Z",
     "iopub.status.idle": "2023-01-05T10:09:53.547649Z",
     "shell.execute_reply": "2023-01-05T10:09:53.546814Z",
     "shell.execute_reply.started": "2023-01-05T10:09:53.535228Z"
    }
   },
   "outputs": [
    {
     "data": {
      "text/html": [
       "<div>\n",
       "<style scoped>\n",
       "    .dataframe tbody tr th:only-of-type {\n",
       "        vertical-align: middle;\n",
       "    }\n",
       "\n",
       "    .dataframe tbody tr th {\n",
       "        vertical-align: top;\n",
       "    }\n",
       "\n",
       "    .dataframe thead th {\n",
       "        text-align: right;\n",
       "    }\n",
       "</style>\n",
       "<table border=\"1\" class=\"dataframe\">\n",
       "  <thead>\n",
       "    <tr style=\"text-align: right;\">\n",
       "      <th></th>\n",
       "      <th>Text</th>\n",
       "      <th>Emotion</th>\n",
       "    </tr>\n",
       "  </thead>\n",
       "  <tbody>\n",
       "    <tr>\n",
       "      <th>0</th>\n",
       "      <td>i didnt feel humiliated</td>\n",
       "      <td>sadness</td>\n",
       "    </tr>\n",
       "    <tr>\n",
       "      <th>1</th>\n",
       "      <td>i can go from feeling so hopeless to so damned...</td>\n",
       "      <td>sadness</td>\n",
       "    </tr>\n",
       "    <tr>\n",
       "      <th>2</th>\n",
       "      <td>im grabbing a minute to post i feel greedy wrong</td>\n",
       "      <td>anger</td>\n",
       "    </tr>\n",
       "    <tr>\n",
       "      <th>3</th>\n",
       "      <td>i am ever feeling nostalgic about the fireplac...</td>\n",
       "      <td>love</td>\n",
       "    </tr>\n",
       "    <tr>\n",
       "      <th>4</th>\n",
       "      <td>i am feeling grouchy</td>\n",
       "      <td>anger</td>\n",
       "    </tr>\n",
       "  </tbody>\n",
       "</table>\n",
       "</div>"
      ],
      "text/plain": [
       "                                                Text  Emotion\n",
       "0                            i didnt feel humiliated  sadness\n",
       "1  i can go from feeling so hopeless to so damned...  sadness\n",
       "2   im grabbing a minute to post i feel greedy wrong    anger\n",
       "3  i am ever feeling nostalgic about the fireplac...     love\n",
       "4                               i am feeling grouchy    anger"
      ]
     },
     "execution_count": 49,
     "metadata": {},
     "output_type": "execute_result"
    }
   ],
   "source": [
    "#print first 5 rows\n",
    "df_train.head()"
   ]
  },
  {
   "cell_type": "code",
   "execution_count": 50,
   "metadata": {
    "execution": {
     "iopub.execute_input": "2023-01-05T10:09:53.551257Z",
     "iopub.status.busy": "2023-01-05T10:09:53.550607Z",
     "iopub.status.idle": "2023-01-05T10:09:53.558026Z",
     "shell.execute_reply": "2023-01-05T10:09:53.556934Z",
     "shell.execute_reply.started": "2023-01-05T10:09:53.551220Z"
    }
   },
   "outputs": [
    {
     "name": "stdout",
     "output_type": "stream",
     "text": [
      "(16000, 2)\n"
     ]
    }
   ],
   "source": [
    "#print the shape of the data set\n",
    "print(df_train.shape)"
   ]
  },
  {
   "cell_type": "code",
   "execution_count": 91,
   "metadata": {
    "execution": {
     "iopub.execute_input": "2023-01-05T10:09:53.559917Z",
     "iopub.status.busy": "2023-01-05T10:09:53.559553Z",
     "iopub.status.idle": "2023-01-05T10:09:53.574946Z",
     "shell.execute_reply": "2023-01-05T10:09:53.573958Z",
     "shell.execute_reply.started": "2023-01-05T10:09:53.559883Z"
    }
   },
   "outputs": [
    {
     "data": {
      "text/html": [
       "<div>\n",
       "<style scoped>\n",
       "    .dataframe tbody tr th:only-of-type {\n",
       "        vertical-align: middle;\n",
       "    }\n",
       "\n",
       "    .dataframe tbody tr th {\n",
       "        vertical-align: top;\n",
       "    }\n",
       "\n",
       "    .dataframe thead th {\n",
       "        text-align: right;\n",
       "    }\n",
       "</style>\n",
       "<table border=\"1\" class=\"dataframe\">\n",
       "  <thead>\n",
       "    <tr style=\"text-align: right;\">\n",
       "      <th></th>\n",
       "      <th>Text</th>\n",
       "      <th>Emotion</th>\n",
       "    </tr>\n",
       "  </thead>\n",
       "  <tbody>\n",
       "    <tr>\n",
       "      <th>0</th>\n",
       "      <td>im feeling rather rotten im ambitious right</td>\n",
       "      <td>sadness</td>\n",
       "    </tr>\n",
       "    <tr>\n",
       "      <th>1</th>\n",
       "      <td>im updating blog feel shitty</td>\n",
       "      <td>sadness</td>\n",
       "    </tr>\n",
       "    <tr>\n",
       "      <th>2</th>\n",
       "      <td>never make separate ever want feel like ashamed</td>\n",
       "      <td>sadness</td>\n",
       "    </tr>\n",
       "    <tr>\n",
       "      <th>3</th>\n",
       "      <td>left bouquet red yellow tulip arm feeling slig...</td>\n",
       "      <td>joy</td>\n",
       "    </tr>\n",
       "    <tr>\n",
       "      <th>4</th>\n",
       "      <td>feeling little vain one</td>\n",
       "      <td>sadness</td>\n",
       "    </tr>\n",
       "  </tbody>\n",
       "</table>\n",
       "</div>"
      ],
      "text/plain": [
       "                                                Text  Emotion\n",
       "0        im feeling rather rotten im ambitious right  sadness\n",
       "1                       im updating blog feel shitty  sadness\n",
       "2    never make separate ever want feel like ashamed  sadness\n",
       "3  left bouquet red yellow tulip arm feeling slig...      joy\n",
       "4                            feeling little vain one  sadness"
      ]
     },
     "execution_count": 91,
     "metadata": {},
     "output_type": "execute_result"
    }
   ],
   "source": [
    "#print first 5 rows\n",
    "df_test.head()"
   ]
  },
  {
   "cell_type": "code",
   "execution_count": 92,
   "metadata": {},
   "outputs": [
    {
     "data": {
      "text/plain": [
       "Emotion\n",
       "joy         695\n",
       "sadness     581\n",
       "anger       275\n",
       "fear        224\n",
       "love        159\n",
       "surprise     66\n",
       "Name: count, dtype: int64"
      ]
     },
     "execution_count": 92,
     "metadata": {},
     "output_type": "execute_result"
    }
   ],
   "source": [
    "df_test['Emotion'].value_counts()"
   ]
  },
  {
   "cell_type": "code",
   "execution_count": 52,
   "metadata": {
    "execution": {
     "iopub.execute_input": "2023-01-05T10:09:53.576955Z",
     "iopub.status.busy": "2023-01-05T10:09:53.576324Z",
     "iopub.status.idle": "2023-01-05T10:09:53.584948Z",
     "shell.execute_reply": "2023-01-05T10:09:53.583919Z",
     "shell.execute_reply.started": "2023-01-05T10:09:53.576911Z"
    }
   },
   "outputs": [
    {
     "name": "stdout",
     "output_type": "stream",
     "text": [
      "(2000, 2)\n"
     ]
    }
   ],
   "source": [
    "#print the shape of the data set\n",
    "print(df_test.shape)"
   ]
  },
  {
   "cell_type": "code",
   "execution_count": 53,
   "metadata": {
    "execution": {
     "iopub.execute_input": "2023-01-05T10:09:53.587142Z",
     "iopub.status.busy": "2023-01-05T10:09:53.586527Z",
     "iopub.status.idle": "2023-01-05T10:09:53.599861Z",
     "shell.execute_reply": "2023-01-05T10:09:53.598775Z",
     "shell.execute_reply.started": "2023-01-05T10:09:53.587055Z"
    }
   },
   "outputs": [
    {
     "data": {
      "text/html": [
       "<div>\n",
       "<style scoped>\n",
       "    .dataframe tbody tr th:only-of-type {\n",
       "        vertical-align: middle;\n",
       "    }\n",
       "\n",
       "    .dataframe tbody tr th {\n",
       "        vertical-align: top;\n",
       "    }\n",
       "\n",
       "    .dataframe thead th {\n",
       "        text-align: right;\n",
       "    }\n",
       "</style>\n",
       "<table border=\"1\" class=\"dataframe\">\n",
       "  <thead>\n",
       "    <tr style=\"text-align: right;\">\n",
       "      <th></th>\n",
       "      <th>Text</th>\n",
       "      <th>Emotion</th>\n",
       "    </tr>\n",
       "  </thead>\n",
       "  <tbody>\n",
       "    <tr>\n",
       "      <th>0</th>\n",
       "      <td>im feeling quite sad and sorry for myself but ...</td>\n",
       "      <td>sadness</td>\n",
       "    </tr>\n",
       "    <tr>\n",
       "      <th>1</th>\n",
       "      <td>i feel like i am still looking at a blank canv...</td>\n",
       "      <td>sadness</td>\n",
       "    </tr>\n",
       "    <tr>\n",
       "      <th>2</th>\n",
       "      <td>i feel like a faithful servant</td>\n",
       "      <td>love</td>\n",
       "    </tr>\n",
       "    <tr>\n",
       "      <th>3</th>\n",
       "      <td>i am just feeling cranky and blue</td>\n",
       "      <td>anger</td>\n",
       "    </tr>\n",
       "    <tr>\n",
       "      <th>4</th>\n",
       "      <td>i can have for a treat or if i am feeling festive</td>\n",
       "      <td>joy</td>\n",
       "    </tr>\n",
       "  </tbody>\n",
       "</table>\n",
       "</div>"
      ],
      "text/plain": [
       "                                                Text  Emotion\n",
       "0  im feeling quite sad and sorry for myself but ...  sadness\n",
       "1  i feel like i am still looking at a blank canv...  sadness\n",
       "2                     i feel like a faithful servant     love\n",
       "3                  i am just feeling cranky and blue    anger\n",
       "4  i can have for a treat or if i am feeling festive      joy"
      ]
     },
     "execution_count": 53,
     "metadata": {},
     "output_type": "execute_result"
    }
   ],
   "source": [
    "#print first 5 rows\n",
    "df_val.head()"
   ]
  },
  {
   "cell_type": "code",
   "execution_count": 54,
   "metadata": {
    "execution": {
     "iopub.execute_input": "2023-01-05T10:09:53.602308Z",
     "iopub.status.busy": "2023-01-05T10:09:53.601408Z",
     "iopub.status.idle": "2023-01-05T10:09:53.610138Z",
     "shell.execute_reply": "2023-01-05T10:09:53.609058Z",
     "shell.execute_reply.started": "2023-01-05T10:09:53.602263Z"
    }
   },
   "outputs": [
    {
     "name": "stdout",
     "output_type": "stream",
     "text": [
      "(2000, 2)\n"
     ]
    }
   ],
   "source": [
    "#print the shape of the data set\n",
    "print(df_val.shape)"
   ]
  },
  {
   "cell_type": "code",
   "execution_count": 55,
   "metadata": {
    "execution": {
     "iopub.execute_input": "2023-01-05T10:09:54.034519Z",
     "iopub.status.busy": "2023-01-05T10:09:54.031808Z",
     "iopub.status.idle": "2023-01-05T10:09:54.053943Z",
     "shell.execute_reply": "2023-01-05T10:09:54.053047Z",
     "shell.execute_reply.started": "2023-01-05T10:09:54.034469Z"
    }
   },
   "outputs": [],
   "source": [
    "#removing duplicated values\n",
    "index = df_train[df_train.duplicated() == True].index\n",
    "df_train.drop(index, axis = 0, inplace = True)\n",
    "df_train.reset_index(inplace=True, drop = True)"
   ]
  },
  {
   "cell_type": "code",
   "execution_count": 56,
   "metadata": {
    "execution": {
     "iopub.execute_input": "2023-01-05T10:09:54.153065Z",
     "iopub.status.busy": "2023-01-05T10:09:54.150496Z",
     "iopub.status.idle": "2023-01-05T10:09:54.164005Z",
     "shell.execute_reply": "2023-01-05T10:09:54.162824Z",
     "shell.execute_reply.started": "2023-01-05T10:09:54.153024Z"
    }
   },
   "outputs": [],
   "source": [
    "#removing duplicated text \n",
    "index = df_train[df_train['Text'].duplicated() == True].index\n",
    "df_train.drop(index, axis = 0, inplace = True)\n",
    "df_train.reset_index(inplace=True, drop = True)"
   ]
  },
  {
   "cell_type": "code",
   "execution_count": 57,
   "metadata": {
    "execution": {
     "iopub.execute_input": "2023-01-05T10:09:55.687616Z",
     "iopub.status.busy": "2023-01-05T10:09:55.687263Z",
     "iopub.status.idle": "2023-01-05T10:09:55.695224Z",
     "shell.execute_reply": "2023-01-05T10:09:55.694326Z",
     "shell.execute_reply.started": "2023-01-05T10:09:55.687583Z"
    }
   },
   "outputs": [],
   "source": [
    "#removing duplicated text\n",
    "index = df_val[df_val['Text'].duplicated() == True].index\n",
    "df_val.drop(index, axis = 0, inplace = True)\n",
    "df_val.reset_index(inplace=True, drop = True)"
   ]
  },
  {
   "cell_type": "code",
   "execution_count": 58,
   "metadata": {
    "execution": {
     "iopub.execute_input": "2023-01-05T10:09:56.074361Z",
     "iopub.status.busy": "2023-01-05T10:09:56.074027Z",
     "iopub.status.idle": "2023-01-05T10:09:56.087635Z",
     "shell.execute_reply": "2023-01-05T10:09:56.086445Z",
     "shell.execute_reply.started": "2023-01-05T10:09:56.074328Z"
    }
   },
   "outputs": [],
   "source": [
    "def lemmatization(text):\n",
    "    lemmatizer= WordNetLemmatizer()\n",
    "\n",
    "    text = text.split()\n",
    "\n",
    "    text=[lemmatizer.lemmatize(y) for y in text]\n",
    "    \n",
    "    return \" \" .join(text)\n",
    "\n",
    "def remove_stop_words(text):\n",
    "\n",
    "    Text=[i for i in str(text).split() if i not in stop_words]\n",
    "    return \" \".join(Text)\n",
    "\n",
    "def Removing_numbers(text):\n",
    "    text=''.join([i for i in text if not i.isdigit()])\n",
    "    return text\n",
    "\n",
    "def lower_case(text):\n",
    "    \n",
    "    text = text.split()\n",
    "\n",
    "    text=[y.lower() for y in text]\n",
    "    \n",
    "    return \" \" .join(text)\n",
    "\n",
    "def Removing_punctuations(text):\n",
    "    ## Remove punctuations\n",
    "    text = re.sub('[%s]' % re.escape(\"\"\"!\"#$%&'()*+,،-./:;<=>؟?@[\\]^_`{|}~\"\"\"), ' ', text)\n",
    "    text = text.replace('؛',\"\", )\n",
    "    \n",
    "    ## remove extra whitespace\n",
    "    text = re.sub('\\s+', ' ', text)\n",
    "    text =  \" \".join(text.split())\n",
    "    return text.strip()\n",
    "\n",
    "def Removing_urls(text):\n",
    "    url_pattern = re.compile(r'https?://\\S+|www\\.\\S+')\n",
    "    return url_pattern.sub(r'', text)\n",
    "\n",
    "def remove_small_sentences(df):\n",
    "    for i in range(len(df)):\n",
    "        if len(df.text.iloc[i].split()) < 3:\n",
    "            df.text.iloc[i] = np.nan\n",
    "            \n",
    "def normalize_text(df):\n",
    "    df.Text=df.Text.apply(lambda text : lower_case(text))\n",
    "    df.Text=df.Text.apply(lambda text : remove_stop_words(text))\n",
    "    df.Text=df.Text.apply(lambda text : Removing_numbers(text))\n",
    "    df.Text=df.Text.apply(lambda text : Removing_punctuations(text))\n",
    "    df.Text=df.Text.apply(lambda text : Removing_urls(text))\n",
    "    df.Text=df.Text.apply(lambda text : lemmatization(text))\n",
    "    return df\n",
    "\n",
    "def normalized_sentence(sentence):\n",
    "    sentence= lower_case(sentence)\n",
    "    sentence= remove_stop_words(sentence)\n",
    "    sentence= Removing_numbers(sentence)\n",
    "    sentence= Removing_punctuations(sentence)\n",
    "    sentence= Removing_urls(sentence)\n",
    "    sentence= lemmatization(sentence)\n",
    "    return sentence\n",
    "\n",
    "    "
   ]
  },
  {
   "cell_type": "code",
   "execution_count": 59,
   "metadata": {
    "execution": {
     "iopub.execute_input": "2023-01-05T10:11:02.376585Z",
     "iopub.status.busy": "2023-01-05T10:11:02.376175Z",
     "iopub.status.idle": "2023-01-05T10:11:04.034699Z",
     "shell.execute_reply": "2023-01-05T10:11:04.033722Z",
     "shell.execute_reply.started": "2023-01-05T10:11:02.376542Z"
    }
   },
   "outputs": [
    {
     "data": {
      "text/plain": [
       "'name mohamed tweet play egypt'"
      ]
     },
     "execution_count": 59,
     "metadata": {},
     "output_type": "execute_result"
    }
   ],
   "source": [
    "normalized_sentence(\"My Name is Mohamed. @Tweets,  plays 2022  Egypt_\")\n"
   ]
  },
  {
   "cell_type": "code",
   "execution_count": 60,
   "metadata": {
    "execution": {
     "iopub.execute_input": "2023-01-05T10:11:07.326500Z",
     "iopub.status.busy": "2023-01-05T10:11:07.323879Z",
     "iopub.status.idle": "2023-01-05T10:11:08.664858Z",
     "shell.execute_reply": "2023-01-05T10:11:08.663886Z",
     "shell.execute_reply.started": "2023-01-05T10:11:07.326446Z"
    }
   },
   "outputs": [],
   "source": [
    "df_train= normalize_text(df_train)\n",
    "df_test= normalize_text(df_test)\n",
    "df_val= normalize_text(df_val)"
   ]
  },
  {
   "cell_type": "markdown",
   "metadata": {},
   "source": [
    "**Creating a pipline using tf-idf for words embedding and different models.**\n"
   ]
  },
  {
   "cell_type": "code",
   "execution_count": 61,
   "metadata": {
    "execution": {
     "iopub.execute_input": "2023-01-05T10:11:08.667751Z",
     "iopub.status.busy": "2023-01-05T10:11:08.667044Z",
     "iopub.status.idle": "2023-01-05T10:11:08.674691Z",
     "shell.execute_reply": "2023-01-05T10:11:08.673440Z",
     "shell.execute_reply.started": "2023-01-05T10:11:08.667713Z"
    }
   },
   "outputs": [],
   "source": [
    "#Preprocess text\n",
    "X_train = df_train['Text'].values\n",
    "y_train = df_train['Emotion'].values\n",
    "\n",
    "X_test = df_test['Text'].values\n",
    "y_test = df_test['Emotion'].values\n",
    "\n",
    "X_val = df_val['Text'].values\n",
    "y_val = df_val['Emotion'].values"
   ]
  },
  {
   "cell_type": "code",
   "execution_count": 62,
   "metadata": {
    "execution": {
     "iopub.execute_input": "2023-01-05T10:11:08.676594Z",
     "iopub.status.busy": "2023-01-05T10:11:08.676039Z",
     "iopub.status.idle": "2023-01-05T10:11:08.686580Z",
     "shell.execute_reply": "2023-01-05T10:11:08.685724Z",
     "shell.execute_reply.started": "2023-01-05T10:11:08.676559Z"
    }
   },
   "outputs": [],
   "source": [
    "def train_model(model, data, targets):\n",
    "    \"\"\"\n",
    "    Train a model on the given data and targets.\n",
    "    \n",
    "    Parameters:\n",
    "    model (sklearn model): The model to be trained.\n",
    "    data (list of str): The input data.\n",
    "    targets (list of str): The targets.\n",
    "    \n",
    "    Returns:\n",
    "    Pipeline: The trained model as a Pipeline object.\n",
    "    \"\"\"\n",
    "    # Create a Pipeline object with a TfidfVectorizer and the given model\n",
    "    text_clf = Pipeline([('vect',TfidfVectorizer()),\n",
    "                         ('clf', model)])\n",
    "    # Fit the model on the data and targets\n",
    "    text_clf.fit(data, targets)\n",
    "    return text_clf"
   ]
  },
  {
   "cell_type": "code",
   "execution_count": 63,
   "metadata": {
    "execution": {
     "iopub.execute_input": "2023-01-05T10:11:08.690396Z",
     "iopub.status.busy": "2023-01-05T10:11:08.690059Z",
     "iopub.status.idle": "2023-01-05T10:11:08.698144Z",
     "shell.execute_reply": "2023-01-05T10:11:08.696823Z",
     "shell.execute_reply.started": "2023-01-05T10:11:08.690363Z"
    }
   },
   "outputs": [],
   "source": [
    "def get_F1(trained_model,X,y):\n",
    "    \"\"\"\n",
    "    Get the F1 score for the given model on the given data and targets.\n",
    "    \n",
    "    Parameters:\n",
    "    trained_model (sklearn model): The trained model.\n",
    "    X (list of str): The input data.\n",
    "    y (list of str): The targets.\n",
    "    \n",
    "    Returns:\n",
    "    array: The F1 score for each class.\n",
    "    \"\"\"\n",
    "    # Make predictions on the input data using the trained model\n",
    "    predicted=trained_model.predict(X)\n",
    "    # Calculate the F1 score for the predictions\n",
    "    f1=f1_score(y,predicted, average=None)\n",
    "    # Return the F1 score\n",
    "    return f1"
   ]
  },
  {
   "cell_type": "markdown",
   "metadata": {},
   "source": [
    "**Training the Logistic Regression model on the Training set**\n"
   ]
  },
  {
   "cell_type": "code",
   "execution_count": 68,
   "metadata": {
    "execution": {
     "iopub.execute_input": "2023-01-05T10:11:08.700910Z",
     "iopub.status.busy": "2023-01-05T10:11:08.700326Z",
     "iopub.status.idle": "2023-01-05T10:11:09.480896Z",
     "shell.execute_reply": "2023-01-05T10:11:09.479578Z",
     "shell.execute_reply.started": "2023-01-05T10:11:08.700849Z"
    }
   },
   "outputs": [],
   "source": [
    "#Train the model with the training data\n",
    "log_reg = train_model(LogisticRegression(solver='liblinear',random_state = 0), X_train, y_train)"
   ]
  },
  {
   "cell_type": "code",
   "execution_count": 69,
   "metadata": {
    "execution": {
     "iopub.execute_input": "2023-01-05T10:11:09.483608Z",
     "iopub.status.busy": "2023-01-05T10:11:09.482835Z",
     "iopub.status.idle": "2023-01-05T10:11:09.493670Z",
     "shell.execute_reply": "2023-01-05T10:11:09.492466Z",
     "shell.execute_reply.started": "2023-01-05T10:11:09.483558Z"
    }
   },
   "outputs": [
    {
     "data": {
      "text/plain": [
       "array(['joy'], dtype=object)"
      ]
     },
     "execution_count": 69,
     "metadata": {},
     "output_type": "execute_result"
    }
   ],
   "source": [
    "#Make a single prediction\n",
    "y_pred=log_reg.predict(['Happy'])\n",
    "y_pred"
   ]
  },
  {
   "cell_type": "code",
   "execution_count": 73,
   "metadata": {
    "execution": {
     "iopub.execute_input": "2023-01-05T10:11:09.496203Z",
     "iopub.status.busy": "2023-01-05T10:11:09.495464Z",
     "iopub.status.idle": "2023-01-05T10:11:09.628897Z",
     "shell.execute_reply": "2023-01-05T10:11:09.627742Z",
     "shell.execute_reply.started": "2023-01-05T10:11:09.496164Z"
    }
   },
   "outputs": [
    {
     "name": "stdout",
     "output_type": "stream",
     "text": [
      "AUC OVO:  0.9851958328409837 \n",
      "\n"
     ]
    },
    {
     "data": {
      "text/html": [
       "<div>\n",
       "<style scoped>\n",
       "    .dataframe tbody tr th:only-of-type {\n",
       "        vertical-align: middle;\n",
       "    }\n",
       "\n",
       "    .dataframe tbody tr th {\n",
       "        vertical-align: top;\n",
       "    }\n",
       "\n",
       "    .dataframe thead th {\n",
       "        text-align: right;\n",
       "    }\n",
       "</style>\n",
       "<table border=\"1\" class=\"dataframe\">\n",
       "  <thead>\n",
       "    <tr style=\"text-align: right;\">\n",
       "      <th></th>\n",
       "      <th>F1 score</th>\n",
       "    </tr>\n",
       "  </thead>\n",
       "  <tbody>\n",
       "    <tr>\n",
       "      <th>sadness</th>\n",
       "      <td>0.858223</td>\n",
       "    </tr>\n",
       "    <tr>\n",
       "      <th>anger</th>\n",
       "      <td>0.823810</td>\n",
       "    </tr>\n",
       "    <tr>\n",
       "      <th>love</th>\n",
       "      <td>0.893048</td>\n",
       "    </tr>\n",
       "    <tr>\n",
       "      <th>surprise</th>\n",
       "      <td>0.703704</td>\n",
       "    </tr>\n",
       "    <tr>\n",
       "      <th>fear</th>\n",
       "      <td>0.915683</td>\n",
       "    </tr>\n",
       "    <tr>\n",
       "      <th>joy</th>\n",
       "      <td>0.626263</td>\n",
       "    </tr>\n",
       "  </tbody>\n",
       "</table>\n",
       "</div>"
      ],
      "text/plain": [
       "          F1 score\n",
       "sadness   0.858223\n",
       "anger     0.823810\n",
       "love      0.893048\n",
       "surprise  0.703704\n",
       "fear      0.915683\n",
       "joy       0.626263"
      ]
     },
     "execution_count": 73,
     "metadata": {},
     "output_type": "execute_result"
    }
   ],
   "source": [
    "#test the model with the test data\n",
    "y_pred=log_reg.predict(X_test)\n",
    "y_pred_proba=log_reg.predict_proba(X_test)\n",
    "\n",
    "auc_ovo = roc_auc_score(y_test, y_pred_proba, multi_class='ovo')\n",
    "print('AUC OVO: ', auc_ovo, '\\n')\n",
    "\n",
    "#calculate the F1 score\n",
    "f1_Score = get_F1(log_reg,X_test,y_test)\n",
    "pd.DataFrame(f1_Score, index=df_train.Emotion.unique(), columns=['F1 score'])"
   ]
  },
  {
   "cell_type": "code",
   "execution_count": 74,
   "metadata": {
    "execution": {
     "iopub.execute_input": "2023-01-05T10:11:09.631020Z",
     "iopub.status.busy": "2023-01-05T10:11:09.630758Z",
     "iopub.status.idle": "2023-01-05T10:11:09.680051Z",
     "shell.execute_reply": "2023-01-05T10:11:09.679035Z",
     "shell.execute_reply.started": "2023-01-05T10:11:09.630995Z"
    }
   },
   "outputs": [
    {
     "name": "stdout",
     "output_type": "stream",
     "text": [
      "              precision    recall  f1-score   support\n",
      "\n",
      "       anger       0.89      0.83      0.86       275\n",
      "        fear       0.88      0.77      0.82       224\n",
      "         joy       0.83      0.96      0.89       695\n",
      "        love       0.86      0.60      0.70       159\n",
      "     sadness       0.90      0.93      0.92       581\n",
      "    surprise       0.94      0.47      0.63        66\n",
      "\n",
      "    accuracy                           0.87      2000\n",
      "   macro avg       0.88      0.76      0.80      2000\n",
      "weighted avg       0.87      0.87      0.86      2000\n",
      "\n"
     ]
    }
   ],
   "source": [
    "##Classification Report\n",
    "print(classification_report(y_test, y_pred))"
   ]
  },
  {
   "cell_type": "markdown",
   "metadata": {},
   "source": [
    "**Training the Decision Tree model on the Training set**"
   ]
  },
  {
   "cell_type": "code",
   "execution_count": 76,
   "metadata": {
    "execution": {
     "iopub.execute_input": "2023-01-05T10:11:09.683165Z",
     "iopub.status.busy": "2023-01-05T10:11:09.682902Z",
     "iopub.status.idle": "2023-01-05T10:11:13.620461Z",
     "shell.execute_reply": "2023-01-05T10:11:13.618985Z",
     "shell.execute_reply.started": "2023-01-05T10:11:09.683140Z"
    }
   },
   "outputs": [
    {
     "name": "stdout",
     "output_type": "stream",
     "text": [
      "AUC OVO:  0.8872985379933244 \n",
      "\n",
      "Accuracy:  0.859 \n",
      "\n"
     ]
    },
    {
     "data": {
      "text/html": [
       "<div>\n",
       "<style scoped>\n",
       "    .dataframe tbody tr th:only-of-type {\n",
       "        vertical-align: middle;\n",
       "    }\n",
       "\n",
       "    .dataframe tbody tr th {\n",
       "        vertical-align: top;\n",
       "    }\n",
       "\n",
       "    .dataframe thead th {\n",
       "        text-align: right;\n",
       "    }\n",
       "</style>\n",
       "<table border=\"1\" class=\"dataframe\">\n",
       "  <thead>\n",
       "    <tr style=\"text-align: right;\">\n",
       "      <th></th>\n",
       "      <th>F1 score</th>\n",
       "    </tr>\n",
       "  </thead>\n",
       "  <tbody>\n",
       "    <tr>\n",
       "      <th>sadness</th>\n",
       "      <td>0.873440</td>\n",
       "    </tr>\n",
       "    <tr>\n",
       "      <th>anger</th>\n",
       "      <td>0.798206</td>\n",
       "    </tr>\n",
       "    <tr>\n",
       "      <th>love</th>\n",
       "      <td>0.890671</td>\n",
       "    </tr>\n",
       "    <tr>\n",
       "      <th>surprise</th>\n",
       "      <td>0.737805</td>\n",
       "    </tr>\n",
       "    <tr>\n",
       "      <th>fear</th>\n",
       "      <td>0.900605</td>\n",
       "    </tr>\n",
       "    <tr>\n",
       "      <th>joy</th>\n",
       "      <td>0.617647</td>\n",
       "    </tr>\n",
       "  </tbody>\n",
       "</table>\n",
       "</div>"
      ],
      "text/plain": [
       "          F1 score\n",
       "sadness   0.873440\n",
       "anger     0.798206\n",
       "love      0.890671\n",
       "surprise  0.737805\n",
       "fear      0.900605\n",
       "joy       0.617647"
      ]
     },
     "execution_count": 76,
     "metadata": {},
     "output_type": "execute_result"
    }
   ],
   "source": [
    "#Train the model with the training data\n",
    "DT = train_model(DecisionTreeClassifier(random_state = 0), X_train, y_train)\n",
    "\n",
    "#test the model with the test data\n",
    "y_pred=DT.predict(X_test)\n",
    "y_pred_proba=DT.predict_proba(X_test)\n",
    "\n",
    "auc_ovo = roc_auc_score(y_test, y_pred_proba, multi_class='ovo')\n",
    "print('AUC OVO: ', auc_ovo, '\\n')\n",
    "#calculate the accuracy\n",
    "DT_accuracy = accuracy_score(y_test, y_pred)\n",
    "print('Accuracy: ', DT_accuracy,'\\n')\n",
    "\n",
    "#calculate the F1 score\n",
    "f1_Score = get_F1(DT,X_test,y_test)\n",
    "pd.DataFrame(f1_Score, index=df_train.Emotion.unique(), columns=['F1 score']) "
   ]
  },
  {
   "cell_type": "code",
   "execution_count": 77,
   "metadata": {
    "execution": {
     "iopub.execute_input": "2023-01-05T10:11:13.625609Z",
     "iopub.status.busy": "2023-01-05T10:11:13.625218Z",
     "iopub.status.idle": "2023-01-05T10:11:13.674383Z",
     "shell.execute_reply": "2023-01-05T10:11:13.673504Z",
     "shell.execute_reply.started": "2023-01-05T10:11:13.625572Z"
    }
   },
   "outputs": [
    {
     "name": "stdout",
     "output_type": "stream",
     "text": [
      "              precision    recall  f1-score   support\n",
      "\n",
      "       anger       0.86      0.89      0.87       275\n",
      "        fear       0.80      0.79      0.80       224\n",
      "         joy       0.90      0.88      0.89       695\n",
      "        love       0.72      0.76      0.74       159\n",
      "     sadness       0.90      0.90      0.90       581\n",
      "    surprise       0.60      0.64      0.62        66\n",
      "\n",
      "    accuracy                           0.86      2000\n",
      "   macro avg       0.80      0.81      0.80      2000\n",
      "weighted avg       0.86      0.86      0.86      2000\n",
      "\n"
     ]
    }
   ],
   "source": [
    "##Classification Report\n",
    "print(classification_report(y_test, y_pred))"
   ]
  },
  {
   "cell_type": "markdown",
   "metadata": {},
   "source": [
    "**Training the Support Vector Machine model on the Training set**\n"
   ]
  },
  {
   "cell_type": "code",
   "execution_count": 78,
   "metadata": {
    "execution": {
     "iopub.execute_input": "2023-01-05T10:11:13.676153Z",
     "iopub.status.busy": "2023-01-05T10:11:13.675804Z",
     "iopub.status.idle": "2023-01-05T10:12:21.751364Z",
     "shell.execute_reply": "2023-01-05T10:12:21.750335Z",
     "shell.execute_reply.started": "2023-01-05T10:11:13.676119Z"
    }
   },
   "outputs": [
    {
     "name": "stdout",
     "output_type": "stream",
     "text": [
      "AUC OVO:  0.8872985379933244 \n",
      "\n",
      "Accuracy:  0.8675 \n",
      "\n"
     ]
    },
    {
     "data": {
      "text/html": [
       "<div>\n",
       "<style scoped>\n",
       "    .dataframe tbody tr th:only-of-type {\n",
       "        vertical-align: middle;\n",
       "    }\n",
       "\n",
       "    .dataframe tbody tr th {\n",
       "        vertical-align: top;\n",
       "    }\n",
       "\n",
       "    .dataframe thead th {\n",
       "        text-align: right;\n",
       "    }\n",
       "</style>\n",
       "<table border=\"1\" class=\"dataframe\">\n",
       "  <thead>\n",
       "    <tr style=\"text-align: right;\">\n",
       "      <th></th>\n",
       "      <th>F1 score</th>\n",
       "    </tr>\n",
       "  </thead>\n",
       "  <tbody>\n",
       "    <tr>\n",
       "      <th>sadness</th>\n",
       "      <td>0.857685</td>\n",
       "    </tr>\n",
       "    <tr>\n",
       "      <th>anger</th>\n",
       "      <td>0.827907</td>\n",
       "    </tr>\n",
       "    <tr>\n",
       "      <th>love</th>\n",
       "      <td>0.893645</td>\n",
       "    </tr>\n",
       "    <tr>\n",
       "      <th>surprise</th>\n",
       "      <td>0.681648</td>\n",
       "    </tr>\n",
       "    <tr>\n",
       "      <th>fear</th>\n",
       "      <td>0.914821</td>\n",
       "    </tr>\n",
       "    <tr>\n",
       "      <th>joy</th>\n",
       "      <td>0.654206</td>\n",
       "    </tr>\n",
       "  </tbody>\n",
       "</table>\n",
       "</div>"
      ],
      "text/plain": [
       "          F1 score\n",
       "sadness   0.857685\n",
       "anger     0.827907\n",
       "love      0.893645\n",
       "surprise  0.681648\n",
       "fear      0.914821\n",
       "joy       0.654206"
      ]
     },
     "execution_count": 78,
     "metadata": {},
     "output_type": "execute_result"
    }
   ],
   "source": [
    "#Train the model with the training data\n",
    "SVM = train_model(SVC(random_state = 0), X_train, y_train)\n",
    "\n",
    "#test the model with the test data\n",
    "y_pred=SVM.predict(X_test)\n",
    "y_pred_proba=DT.predict_proba(X_test)\n",
    "auc_ovo = roc_auc_score(y_test, y_pred_proba, multi_class='ovo')\n",
    "print('AUC OVO: ', auc_ovo, '\\n')\n",
    "#calculate the accuracy\n",
    "SVM_accuracy = accuracy_score(y_test, y_pred)\n",
    "print('Accuracy: ', SVM_accuracy,'\\n')\n",
    "\n",
    "#calculate the F1 score\n",
    "f1_Score = get_F1(SVM,X_test,y_test)\n",
    "pd.DataFrame(f1_Score, index=df_train.Emotion.unique(), columns=['F1 score']) \n"
   ]
  },
  {
   "cell_type": "code",
   "execution_count": 79,
   "metadata": {
    "execution": {
     "iopub.execute_input": "2023-01-05T10:12:21.753491Z",
     "iopub.status.busy": "2023-01-05T10:12:21.752811Z",
     "iopub.status.idle": "2023-01-05T10:12:21.803906Z",
     "shell.execute_reply": "2023-01-05T10:12:21.802740Z",
     "shell.execute_reply.started": "2023-01-05T10:12:21.753433Z"
    }
   },
   "outputs": [
    {
     "name": "stdout",
     "output_type": "stream",
     "text": [
      "              precision    recall  f1-score   support\n",
      "\n",
      "       anger       0.90      0.82      0.86       275\n",
      "        fear       0.86      0.79      0.83       224\n",
      "         joy       0.83      0.96      0.89       695\n",
      "        love       0.84      0.57      0.68       159\n",
      "     sadness       0.91      0.92      0.91       581\n",
      "    surprise       0.85      0.53      0.65        66\n",
      "\n",
      "    accuracy                           0.87      2000\n",
      "   macro avg       0.87      0.77      0.80      2000\n",
      "weighted avg       0.87      0.87      0.86      2000\n",
      "\n"
     ]
    }
   ],
   "source": [
    "##Classification Report\n",
    "print(classification_report(y_test, y_pred))"
   ]
  },
  {
   "cell_type": "markdown",
   "metadata": {},
   "source": [
    "**Training the Random Forest model on the Training set**"
   ]
  },
  {
   "cell_type": "code",
   "execution_count": 80,
   "metadata": {
    "execution": {
     "iopub.execute_input": "2023-01-05T10:12:21.807381Z",
     "iopub.status.busy": "2023-01-05T10:12:21.807118Z",
     "iopub.status.idle": "2023-01-05T10:12:37.653137Z",
     "shell.execute_reply": "2023-01-05T10:12:37.652005Z",
     "shell.execute_reply.started": "2023-01-05T10:12:21.807356Z"
    }
   },
   "outputs": [
    {
     "name": "stdout",
     "output_type": "stream",
     "text": [
      "AUC OVO:  0.9877827911068154 \n",
      "\n",
      "Accuracy:  0.8895 \n",
      "\n"
     ]
    },
    {
     "data": {
      "text/html": [
       "<div>\n",
       "<style scoped>\n",
       "    .dataframe tbody tr th:only-of-type {\n",
       "        vertical-align: middle;\n",
       "    }\n",
       "\n",
       "    .dataframe tbody tr th {\n",
       "        vertical-align: top;\n",
       "    }\n",
       "\n",
       "    .dataframe thead th {\n",
       "        text-align: right;\n",
       "    }\n",
       "</style>\n",
       "<table border=\"1\" class=\"dataframe\">\n",
       "  <thead>\n",
       "    <tr style=\"text-align: right;\">\n",
       "      <th></th>\n",
       "      <th>F1 score</th>\n",
       "    </tr>\n",
       "  </thead>\n",
       "  <tbody>\n",
       "    <tr>\n",
       "      <th>sadness</th>\n",
       "      <td>0.903811</td>\n",
       "    </tr>\n",
       "    <tr>\n",
       "      <th>anger</th>\n",
       "      <td>0.868421</td>\n",
       "    </tr>\n",
       "    <tr>\n",
       "      <th>love</th>\n",
       "      <td>0.908199</td>\n",
       "    </tr>\n",
       "    <tr>\n",
       "      <th>surprise</th>\n",
       "      <td>0.738983</td>\n",
       "    </tr>\n",
       "    <tr>\n",
       "      <th>fear</th>\n",
       "      <td>0.933798</td>\n",
       "    </tr>\n",
       "    <tr>\n",
       "      <th>joy</th>\n",
       "      <td>0.634146</td>\n",
       "    </tr>\n",
       "  </tbody>\n",
       "</table>\n",
       "</div>"
      ],
      "text/plain": [
       "          F1 score\n",
       "sadness   0.903811\n",
       "anger     0.868421\n",
       "love      0.908199\n",
       "surprise  0.738983\n",
       "fear      0.933798\n",
       "joy       0.634146"
      ]
     },
     "execution_count": 80,
     "metadata": {},
     "output_type": "execute_result"
    }
   ],
   "source": [
    "#Train the model with the training data\n",
    "RF = train_model(RandomForestClassifier(random_state = 0), X_train, y_train)\n",
    "\n",
    "#test the model with the test data\n",
    "y_pred=RF.predict(X_test)\n",
    "y_pred_proba=RF.predict_proba(X_test)\n",
    "\n",
    "auc_ovo = roc_auc_score(y_test, y_pred_proba, multi_class='ovo')\n",
    "print('AUC OVO: ', auc_ovo, '\\n')\n",
    "#calculate the accuracy\n",
    "RF_accuracy = accuracy_score(y_test, y_pred)\n",
    "print('Accuracy: ', RF_accuracy,'\\n')\n",
    "\n",
    "#calculate the F1 score\n",
    "f1_Score = get_F1(RF, X_test, y_test)\n",
    "pd.DataFrame(f1_Score, index=df_train.Emotion.unique(), columns=['F1 score']) "
   ]
  },
  {
   "cell_type": "code",
   "execution_count": 81,
   "metadata": {
    "execution": {
     "iopub.execute_input": "2023-01-05T10:12:37.655007Z",
     "iopub.status.busy": "2023-01-05T10:12:37.654558Z",
     "iopub.status.idle": "2023-01-05T10:12:37.702134Z",
     "shell.execute_reply": "2023-01-05T10:12:37.701186Z",
     "shell.execute_reply.started": "2023-01-05T10:12:37.654971Z"
    }
   },
   "outputs": [
    {
     "name": "stdout",
     "output_type": "stream",
     "text": [
      "              precision    recall  f1-score   support\n",
      "\n",
      "       anger       0.90      0.91      0.90       275\n",
      "        fear       0.85      0.88      0.87       224\n",
      "         joy       0.89      0.93      0.91       695\n",
      "        love       0.80      0.69      0.74       159\n",
      "     sadness       0.95      0.92      0.93       581\n",
      "    surprise       0.68      0.59      0.63        66\n",
      "\n",
      "    accuracy                           0.89      2000\n",
      "   macro avg       0.85      0.82      0.83      2000\n",
      "weighted avg       0.89      0.89      0.89      2000\n",
      "\n"
     ]
    }
   ],
   "source": [
    "##Classification Report\n",
    "print(classification_report(y_test, y_pred))"
   ]
  },
  {
   "cell_type": "markdown",
   "metadata": {},
   "source": [
    "## Results"
   ]
  },
  {
   "cell_type": "code",
   "execution_count": 82,
   "metadata": {
    "execution": {
     "iopub.execute_input": "2023-01-05T10:12:37.703751Z",
     "iopub.status.busy": "2023-01-05T10:12:37.703396Z",
     "iopub.status.idle": "2023-01-05T10:12:37.723893Z",
     "shell.execute_reply": "2023-01-05T10:12:37.722892Z",
     "shell.execute_reply.started": "2023-01-05T10:12:37.703718Z"
    },
    "scrolled": false
   },
   "outputs": [
    {
     "data": {
      "text/html": [
       "<div>\n",
       "<style scoped>\n",
       "    .dataframe tbody tr th:only-of-type {\n",
       "        vertical-align: middle;\n",
       "    }\n",
       "\n",
       "    .dataframe tbody tr th {\n",
       "        vertical-align: top;\n",
       "    }\n",
       "\n",
       "    .dataframe thead th {\n",
       "        text-align: right;\n",
       "    }\n",
       "</style>\n",
       "<table border=\"1\" class=\"dataframe\">\n",
       "  <thead>\n",
       "    <tr style=\"text-align: right;\">\n",
       "      <th></th>\n",
       "      <th>Model</th>\n",
       "      <th>Accuracy</th>\n",
       "    </tr>\n",
       "  </thead>\n",
       "  <tbody>\n",
       "    <tr>\n",
       "      <th>0</th>\n",
       "      <td>Random Forest</td>\n",
       "      <td>0.89</td>\n",
       "    </tr>\n",
       "    <tr>\n",
       "      <th>1</th>\n",
       "      <td>Logistic Regression</td>\n",
       "      <td>0.87</td>\n",
       "    </tr>\n",
       "    <tr>\n",
       "      <th>2</th>\n",
       "      <td>Support Vector Machine</td>\n",
       "      <td>0.87</td>\n",
       "    </tr>\n",
       "    <tr>\n",
       "      <th>3</th>\n",
       "      <td>Decision Tree</td>\n",
       "      <td>0.86</td>\n",
       "    </tr>\n",
       "  </tbody>\n",
       "</table>\n",
       "</div>"
      ],
      "text/plain": [
       "                    Model  Accuracy\n",
       "0           Random Forest      0.89\n",
       "1     Logistic Regression      0.87\n",
       "2  Support Vector Machine      0.87\n",
       "3           Decision Tree      0.86"
      ]
     },
     "execution_count": 82,
     "metadata": {},
     "output_type": "execute_result"
    }
   ],
   "source": [
    "models = pd.DataFrame({\n",
    "    'Model': ['Logistic Regression', 'Decision Tree','Support Vector Machine','Random Forest'],\n",
    "    'Accuracy': [log_reg_accuracy.round(2), DT_accuracy.round(2), SVM_accuracy.round(2), RF_accuracy.round(2)]})\n",
    "\n",
    "models.sort_values(by='Accuracy', ascending=False).reset_index().drop(['index'], axis=1)"
   ]
  },
  {
   "cell_type": "code",
   "execution_count": 85,
   "metadata": {},
   "outputs": [],
   "source": [
    "import pickle"
   ]
  },
  {
   "cell_type": "code",
   "execution_count": 86,
   "metadata": {},
   "outputs": [],
   "source": [
    "pickle.dump(RF, open('RF.pkl', 'wb'))\n",
    "pickle.dump(SVM, open('SVM.pkl', 'wb'))\n",
    "pickle.dump(DT, open('DT.pkl', 'wb'))\n",
    "pickle.dump(log_reg, open('log_reg.pkl', 'wb'))\n"
   ]
  },
  {
   "cell_type": "code",
   "execution_count": null,
   "metadata": {},
   "outputs": [],
   "source": []
  }
 ],
 "metadata": {
  "kernelspec": {
   "display_name": "Python 3 (ipykernel)",
   "language": "python",
   "name": "python3"
  },
  "language_info": {
   "codemirror_mode": {
    "name": "ipython",
    "version": 3
   },
   "file_extension": ".py",
   "mimetype": "text/x-python",
   "name": "python",
   "nbconvert_exporter": "python",
   "pygments_lexer": "ipython3",
   "version": "3.11.5"
  }
 },
 "nbformat": 4,
 "nbformat_minor": 4
}
