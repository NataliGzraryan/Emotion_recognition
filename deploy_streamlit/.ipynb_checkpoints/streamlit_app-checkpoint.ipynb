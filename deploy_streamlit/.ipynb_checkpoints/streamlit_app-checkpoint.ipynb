{
 "cells": [
  {
   "cell_type": "code",
   "execution_count": 23,
   "metadata": {},
   "outputs": [],
   "source": [
    "# Import necessary libraries\n",
    "import streamlit as st\n",
    "import joblib\n",
    "from models import predict_emotion  # Assuming this function is compatible with Streamlit\n",
    "from preprocessing import preprocess_text\n",
    "\n",
    "# Define your models dictionary\n",
    "models = {\n",
    "    'Logistic Regression': 'log_reg.pkl',\n",
    "    'Decision Tree': 'DT.pkl',\n",
    "    'Support Vector Machine': 'SVM.pkl',\n",
    "    'Random Forest': 'RF.pkl'\n",
    "}\n",
    "\n",
    "# Title of the Streamlit app\n",
    "st.title('Emotion Prediction App')\n",
    "\n",
    "# Create text input for user\n",
    "text = st.text_input(\"Enter your text here:\")\n",
    "\n",
    "# Dropdown for model selection\n",
    "selected_model_name = st.selectbox(\"Choose a Model\", list(models.keys()))\n",
    "\n",
    "if st.button('Predict Emotion'):\n",
    "    model_name_key = models[selected_model_name]  \n",
    "    processed_text = preprocess_text(text)\n",
    "    emotion = predict_emotion(processed_text,model_name_key)\n",
    "    st.write(f'Predicted Emotion: {emotion}')\n"
   ]
  },
  {
   "cell_type": "code",
   "execution_count": null,
   "metadata": {},
   "outputs": [],
   "source": []
  }
 ],
 "metadata": {
  "kernelspec": {
   "display_name": "Python 3",
   "language": "python",
   "name": "python3"
  },
  "language_info": {
   "codemirror_mode": {
    "name": "ipython",
    "version": 3
   },
   "file_extension": ".py",
   "mimetype": "text/x-python",
   "name": "python",
   "nbconvert_exporter": "python",
   "pygments_lexer": "ipython3",
   "version": "3.8.5"
  }
 },
 "nbformat": 4,
 "nbformat_minor": 4
}
